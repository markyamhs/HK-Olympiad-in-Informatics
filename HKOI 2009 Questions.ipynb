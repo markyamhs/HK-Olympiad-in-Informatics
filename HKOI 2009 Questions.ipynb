{
 "cells": [
  {
   "cell_type": "markdown",
   "metadata": {},
   "source": [
    "### Q0"
   ]
  },
  {
   "cell_type": "code",
   "execution_count": 44,
   "metadata": {},
   "outputs": [],
   "source": [
    "def matrix(n):\n",
    "    arr=[str(x) for x in range(n,1,-1)]+[str(x) for x in range(1,n+1)]\n",
    "    i=0\n",
    "    for i in range(n):\n",
    "        res=arr[i:i+n]\n",
    "        print(\" \".join(res))\n",
    "        i+=1      "
   ]
  },
  {
   "cell_type": "code",
   "execution_count": 62,
   "metadata": {},
   "outputs": [
    {
     "name": "stdout",
     "output_type": "stream",
     "text": [
      "4 3 2 1\n",
      "3 2 1 2\n",
      "2 1 2 3\n",
      "1 2 3 4\n"
     ]
    }
   ],
   "source": [
    "matrix(4)"
   ]
  },
  {
   "cell_type": "markdown",
   "metadata": {},
   "source": [
    "### Q2"
   ]
  },
  {
   "cell_type": "code",
   "execution_count": 56,
   "metadata": {},
   "outputs": [],
   "source": [
    "def position_of_gift(N,M,giftlist,carlist):\n",
    "    res=[]\n",
    "    for gift in giftlist:\n",
    "        fit=False\n",
    "        for carnum,car in enumerate(carlist):\n",
    "            if gift<=car[0] and gift<=car[1]:\n",
    "                res.append(carnum+1)\n",
    "                car[1]-=gift\n",
    "                fit=True\n",
    "                break\n",
    "        if not fit: return \"Impossible\" \n",
    "    return res"
   ]
  },
  {
   "cell_type": "code",
   "execution_count": 61,
   "metadata": {},
   "outputs": [
    {
     "data": {
      "text/plain": [
       "[3, 1, 2, 1, 1]"
      ]
     },
     "execution_count": 61,
     "metadata": {},
     "output_type": "execute_result"
    }
   ],
   "source": [
    "position_of_gift(5,5,[6,2,4,1,2],[[3,5],[4,5],[7,8],[1,2],[3,4]])"
   ]
  },
  {
   "cell_type": "markdown",
   "metadata": {},
   "source": [
    "### Q4"
   ]
  },
  {
   "cell_type": "code",
   "execution_count": 4,
   "metadata": {},
   "outputs": [],
   "source": [
    "def arrive_goal(N,M,Mlist):\n",
    "    if N>M*2: return \"Impossible\" \n",
    "    Rolls,res=M+1,-1\n",
    "    for index1 in range(M):\n",
    "        if Mlist[index1]==0: continue\n",
    "        Sum=0\n",
    "        for end in range(M-index1):\n",
    "            if Mlist[index1+end]==0: continue\n",
    "            Sum+=Mlist[index1+end]\n",
    "            if Sum==N and end+1<Rolls:\n",
    "                Rolls=end+1\n",
    "                res=index1+1\n",
    "                if Rolls==N//2+1:return (res,Rolls)\n",
    "                break\n",
    "            if Sum>N:\n",
    "                Sum-=2\n",
    "    if Rolls==M+1: return \"Impossible\" \n",
    "    else: return (res,Rolls)\n",
    "                "
   ]
  },
  {
   "cell_type": "code",
   "execution_count": 5,
   "metadata": {},
   "outputs": [
    {
     "data": {
      "text/plain": [
       "(2, 3)"
      ]
     },
     "execution_count": 5,
     "metadata": {},
     "output_type": "execute_result"
    }
   ],
   "source": [
    "arrive_goal(5,10,[1,2,1,2,1,1,2,0,0,2]*500000)"
   ]
  },
  {
   "cell_type": "code",
   "execution_count": null,
   "metadata": {},
   "outputs": [],
   "source": []
  },
  {
   "cell_type": "code",
   "execution_count": 76,
   "metadata": {},
   "outputs": [
    {
     "data": {
      "text/plain": [
       "3"
      ]
     },
     "execution_count": 76,
     "metadata": {},
     "output_type": "execute_result"
    }
   ],
   "source": [
    "5//2+1"
   ]
  },
  {
   "cell_type": "code",
   "execution_count": null,
   "metadata": {},
   "outputs": [],
   "source": []
  }
 ],
 "metadata": {
  "kernelspec": {
   "display_name": "Python 3",
   "language": "python",
   "name": "python3"
  },
  "language_info": {
   "codemirror_mode": {
    "name": "ipython",
    "version": 3
   },
   "file_extension": ".py",
   "mimetype": "text/x-python",
   "name": "python",
   "nbconvert_exporter": "python",
   "pygments_lexer": "ipython3",
   "version": "3.7.3"
  }
 },
 "nbformat": 4,
 "nbformat_minor": 2
}
